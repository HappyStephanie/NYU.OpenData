{
 "cells": [
  {
   "cell_type": "code",
   "execution_count": 2,
   "id": "4fd9156f",
   "metadata": {},
   "outputs": [],
   "source": [
    "import pandas as pd\n",
    "\n",
    "# Load the data \n",
    "jan23 = pd.read_csv(\"data/nyc_crashes_202301.csv\")"
   ]
  },
  {
   "cell_type": "code",
   "execution_count": 3,
   "id": "5471e890",
   "metadata": {},
   "outputs": [
    {
     "name": "stdout",
     "output_type": "stream",
     "text": [
      "CRASH DATE                       0.000000\n",
      "CRASH TIME                       0.000000\n",
      "BOROUGH                          0.338156\n",
      "ZIP CODE                         0.338156\n",
      "LATITUDE                         0.066630\n",
      "LONGITUDE                        0.066630\n",
      "LOCATION                         0.066630\n",
      "ON STREET NAME                   0.261928\n",
      "CROSS STREET NAME                0.522882\n",
      "OFF STREET NAME                  0.738072\n",
      "NUMBER OF PERSONS INJURED        0.000000\n",
      "NUMBER OF PERSONS KILLED         0.000000\n",
      "NUMBER OF PEDESTRIANS INJURED    0.000000\n",
      "NUMBER OF PEDESTRIANS KILLED     0.000000\n",
      "NUMBER OF CYCLIST INJURED        0.000000\n",
      "NUMBER OF CYCLIST KILLED         0.000000\n",
      "NUMBER OF MOTORIST INJURED       0.000000\n",
      "NUMBER OF MOTORIST KILLED        0.000000\n",
      "CONTRIBUTING FACTOR VEHICLE 1    0.007372\n",
      "CONTRIBUTING FACTOR VEHICLE 2    0.256503\n",
      "CONTRIBUTING FACTOR VEHICLE 3    0.904298\n",
      "CONTRIBUTING FACTOR VEHICLE 4    0.973432\n",
      "CONTRIBUTING FACTOR VEHICLE 5    0.991376\n",
      "COLLISION_ID                     0.000000\n",
      "VEHICLE TYPE CODE 1              0.018779\n",
      "VEHICLE TYPE CODE 2              0.370149\n",
      "VEHICLE TYPE CODE 3              0.911949\n",
      "VEHICLE TYPE CODE 4              0.975101\n",
      "VEHICLE TYPE CODE 5              0.991793\n",
      "dtype: float64\n"
     ]
    }
   ],
   "source": [
    "# Get the missing values percentage for each variable\n",
    "missing_values_percentage = jan23.isnull().mean()\n",
    "\n",
    "print (missing_values_percentage)"
   ]
  },
  {
   "cell_type": "code",
   "execution_count": 4,
   "id": "fa18ab8a",
   "metadata": {},
   "outputs": [
    {
     "name": "stdout",
     "output_type": "stream",
     "text": [
      "           ZIP CODE     LATITUDE    LONGITUDE  NUMBER OF PERSONS INJURED  \\\n",
      "count   4758.000000  6710.000000  6710.000000                7189.000000   \n",
      "mean   10894.353510    40.230482   -73.026376                   0.502852   \n",
      "std      526.336214     4.448138     8.073369                   0.814039   \n",
      "min    10001.000000     0.000000   -74.250150                   0.000000   \n",
      "25%    10457.000000    40.663177   -73.965057                   0.000000   \n",
      "50%    11208.000000    40.711732   -73.921505                   0.000000   \n",
      "75%    11239.000000    40.774387   -73.865370                   1.000000   \n",
      "max    11694.000000    40.912827     0.000000                  21.000000   \n",
      "\n",
      "       NUMBER OF PERSONS KILLED  NUMBER OF PEDESTRIANS INJURED  \\\n",
      "count               7189.000000                    7189.000000   \n",
      "mean                   0.002365                       0.115871   \n",
      "std                    0.051359                       0.397628   \n",
      "min                    0.000000                       0.000000   \n",
      "25%                    0.000000                       0.000000   \n",
      "50%                    0.000000                       0.000000   \n",
      "75%                    0.000000                       0.000000   \n",
      "max                    2.000000                      19.000000   \n",
      "\n",
      "       NUMBER OF PEDESTRIANS KILLED  NUMBER OF CYCLIST INJURED  \\\n",
      "count                   7189.000000                7189.000000   \n",
      "mean                       0.000696                   0.033245   \n",
      "std                        0.026365                   0.180063   \n",
      "min                        0.000000                   0.000000   \n",
      "25%                        0.000000                   0.000000   \n",
      "50%                        0.000000                   0.000000   \n",
      "75%                        0.000000                   0.000000   \n",
      "max                        1.000000                   2.000000   \n",
      "\n",
      "       NUMBER OF CYCLIST KILLED  NUMBER OF MOTORIST INJURED  \\\n",
      "count               7189.000000                 7189.000000   \n",
      "mean                   0.000417                    0.333565   \n",
      "std                    0.020425                    0.749523   \n",
      "min                    0.000000                    0.000000   \n",
      "25%                    0.000000                    0.000000   \n",
      "50%                    0.000000                    0.000000   \n",
      "75%                    0.000000                    0.000000   \n",
      "max                    1.000000                    8.000000   \n",
      "\n",
      "       NUMBER OF MOTORIST KILLED  COLLISION_ID  \n",
      "count                7189.000000  7.189000e+03  \n",
      "mean                    0.001252  4.598979e+06  \n",
      "std                     0.039099  2.320496e+03  \n",
      "min                     0.000000  4.594332e+06  \n",
      "25%                     0.000000  4.597099e+06  \n",
      "50%                     0.000000  4.599030e+06  \n",
      "75%                     0.000000  4.600909e+06  \n",
      "max                     2.000000  4.604178e+06  \n"
     ]
    }
   ],
   "source": [
    "# Get the descriptive statistics for continuous variables\n",
    "descriptive_statistics = jan23.describe()\n",
    "print (descriptive_statistics)"
   ]
  },
  {
   "cell_type": "code",
   "execution_count": 5,
   "id": "51a381fa",
   "metadata": {
    "scrolled": true
   },
   "outputs": [
    {
     "data": {
      "text/plain": [
       "01/13/2023    293\n",
       "01/19/2023    288\n",
       "01/12/2023    271\n",
       "01/01/2023    266\n",
       "01/17/2023    250\n",
       "01/25/2023    248\n",
       "01/18/2023    248\n",
       "01/10/2023    248\n",
       "01/04/2023    246\n",
       "01/23/2023    243\n",
       "01/31/2023    243\n",
       "01/26/2023    242\n",
       "01/14/2023    240\n",
       "01/28/2023    237\n",
       "01/20/2023    233\n",
       "01/22/2023    232\n",
       "01/09/2023    231\n",
       "01/05/2023    231\n",
       "01/24/2023    228\n",
       "01/06/2023    227\n",
       "01/21/2023    223\n",
       "01/30/2023    216\n",
       "01/27/2023    215\n",
       "01/16/2023    215\n",
       "01/03/2023    214\n",
       "01/11/2023    214\n",
       "01/02/2023    198\n",
       "01/29/2023    198\n",
       "01/15/2023    190\n",
       "01/08/2023    186\n",
       "01/07/2023    175\n",
       "Name: CRASH DATE, dtype: int64"
      ]
     },
     "execution_count": 5,
     "metadata": {},
     "output_type": "execute_result"
    }
   ],
   "source": [
    "# Get the frequency tables for discrete variables\n",
    "jan23[\"CRASH DATE\"].value_counts(dropna=False)  "
   ]
  },
  {
   "cell_type": "code",
   "execution_count": 6,
   "id": "fad553b7",
   "metadata": {
    "scrolled": true
   },
   "outputs": [
    {
     "data": {
      "text/plain": [
       "0:00     114\n",
       "15:00     74\n",
       "18:00     71\n",
       "17:00     68\n",
       "10:00     65\n",
       "        ... \n",
       "5:02       1\n",
       "8:03       1\n",
       "6:08       1\n",
       "1:37       1\n",
       "14:18      1\n",
       "Name: CRASH TIME, Length: 1242, dtype: int64"
      ]
     },
     "execution_count": 6,
     "metadata": {},
     "output_type": "execute_result"
    }
   ],
   "source": [
    "jan23[\"CRASH TIME\"].value_counts(dropna=False)  "
   ]
  },
  {
   "cell_type": "code",
   "execution_count": 7,
   "id": "610c76c5",
   "metadata": {},
   "outputs": [
    {
     "data": {
      "text/plain": [
       "NaN              2431\n",
       "BROOKLYN         1643\n",
       "QUEENS           1307\n",
       "BRONX             810\n",
       "MANHATTAN         804\n",
       "STATEN ISLAND     194\n",
       "Name: BOROUGH, dtype: int64"
      ]
     },
     "execution_count": 7,
     "metadata": {},
     "output_type": "execute_result"
    }
   ],
   "source": [
    "jan23[\"BOROUGH\"].value_counts(dropna=False)"
   ]
  },
  {
   "cell_type": "code",
   "execution_count": 8,
   "id": "ff0207b8",
   "metadata": {
    "scrolled": false
   },
   "outputs": [
    {
     "data": {
      "text/plain": [
       "NaN        2431\n",
       "11207.0     124\n",
       "11236.0      83\n",
       "11208.0      79\n",
       "11212.0      72\n",
       "           ... \n",
       "10280.0       1\n",
       "10282.0       1\n",
       "10121.0       1\n",
       "11001.0       1\n",
       "10169.0       1\n",
       "Name: ZIP CODE, Length: 181, dtype: int64"
      ]
     },
     "execution_count": 8,
     "metadata": {},
     "output_type": "execute_result"
    }
   ],
   "source": [
    "jan23[\"ZIP CODE\"].value_counts(dropna=False)   "
   ]
  },
  {
   "cell_type": "code",
   "execution_count": 9,
   "id": "094dc2c9",
   "metadata": {},
   "outputs": [
    {
     "name": "stdout",
     "output_type": "stream",
     "text": [
      "NaN                           1883\n",
      "BELT PARKWAY                   124\n",
      "BROOKLYN QUEENS EXPRESSWAY      72\n",
      "LONG ISLAND EXPRESSWAY          70\n",
      "BROADWAY                        54\n",
      "                              ... \n",
      "FREEMAN STREET                   1\n",
      "VAN SIDERIN AVENUE               1\n",
      "EAST 61 STREET                   1\n",
      "VANLOON STREET                   1\n",
      "LONGWOOD AVENUE                  1\n",
      "Name: ON STREET NAME, Length: 1572, dtype: int64\n"
     ]
    }
   ],
   "source": [
    "\"\"\" \n",
    "Tried to use the syntax to show all information and found that it was too long. So I \n",
    "decided not to use this syntxt, but kept it in case I would need it in the future\n",
    "\"\"\"\n",
    "# with pd.option_context('display.max_rows', None):\n",
    "print (jan23[\"ON STREET NAME\"].value_counts(dropna=False))"
   ]
  },
  {
   "cell_type": "code",
   "execution_count": 10,
   "id": "a19b4f5c",
   "metadata": {},
   "outputs": [
    {
     "data": {
      "text/plain": [
       "NaN                 3759\n",
       "BROADWAY              37\n",
       "3 AVENUE              37\n",
       "2 AVENUE              32\n",
       "ATLANTIC AVENUE       23\n",
       "                    ... \n",
       "154 STREET             1\n",
       "Plaza Dr               1\n",
       "181 STREET             1\n",
       "EAST 137 STREET        1\n",
       "BROADWAY TERRACE       1\n",
       "Name: CROSS STREET NAME, Length: 1557, dtype: int64"
      ]
     },
     "execution_count": 10,
     "metadata": {},
     "output_type": "execute_result"
    }
   ],
   "source": [
    "jan23[\"CROSS STREET NAME\"].value_counts(dropna=False)"
   ]
  },
  {
   "cell_type": "code",
   "execution_count": 11,
   "id": "18ccd4d8",
   "metadata": {},
   "outputs": [
    {
     "data": {
      "text/plain": [
       "NaN                              5306\n",
       "ATLANTIC AVENUE                     3\n",
       "49-21     METROPOLITAN AVENUE       3\n",
       "560       WINTHROP STREET           3\n",
       "985       RICHMOND AVENUE           3\n",
       "                                 ... \n",
       "17        CONKLIN AVENUE            1\n",
       "247       EAST 115 STREET           1\n",
       "35        DIVISION STREET           1\n",
       "196       MOTT STREET               1\n",
       "470       CLARKSON AVENUE           1\n",
       "Name: OFF STREET NAME, Length: 1859, dtype: int64"
      ]
     },
     "execution_count": 11,
     "metadata": {},
     "output_type": "execute_result"
    }
   ],
   "source": [
    "jan23[\"OFF STREET NAME\"].value_counts(dropna=False)"
   ]
  },
  {
   "cell_type": "code",
   "execution_count": 12,
   "id": "26b9b7cd",
   "metadata": {},
   "outputs": [
    {
     "data": {
      "text/plain": [
       "Driver Inattention/Distraction                           1761\n",
       "Unspecified                                              1683\n",
       "Failure to Yield Right-of-Way                             558\n",
       "Following Too Closely                                     450\n",
       "Passing or Lane Usage Improper                            346\n",
       "Unsafe Speed                                              284\n",
       "Passing Too Closely                                       265\n",
       "Backing Unsafely                                          223\n",
       "Traffic Control Disregarded                               197\n",
       "Other Vehicular                                           191\n",
       "Turning Improperly                                        186\n",
       "Driver Inexperience                                       150\n",
       "Alcohol Involvement                                       127\n",
       "Unsafe Lane Changing                                      125\n",
       "View Obstructed/Limited                                    73\n",
       "Reaction to Uninvolved Vehicle                             64\n",
       "Aggressive Driving/Road Rage                               58\n",
       "Pedestrian/Bicyclist/Other Pedestrian Error/Confusion      57\n",
       "NaN                                                        53\n",
       "Pavement Slippery                                          49\n",
       "Fell Asleep                                                40\n",
       "Brakes Defective                                           30\n",
       "Oversized Vehicle                                          28\n",
       "Steering Failure                                           21\n",
       "Passenger Distraction                                      19\n",
       "Outside Car Distraction                                    17\n",
       "Lost Consciousness                                         17\n",
       "Glare                                                      14\n",
       "Tire Failure/Inadequate                                    13\n",
       "Obstruction/Debris                                         12\n",
       "Illnes                                                     10\n",
       "Drugs (illegal)                                            10\n",
       "Accelerator Defective                                       9\n",
       "Failure to Keep Right                                       9\n",
       "Driverless/Runaway Vehicle                                  7\n",
       "Pavement Defective                                          6\n",
       "Physical Disability                                         5\n",
       "Fatigued/Drowsy                                             4\n",
       "Animals Action                                              4\n",
       "Other Electronic Device                                     2\n",
       "Tinted Windows                                              2\n",
       "Tow Hitch Defective                                         2\n",
       "Cell Phone (hand-Held)                                      2\n",
       "Windshield Inadequate                                       1\n",
       "Texting                                                     1\n",
       "Prescription Medication                                     1\n",
       "Traffic Control Device Improper/Non-Working                 1\n",
       "Lane Marking Improper/Inadequate                            1\n",
       "Other Lighting Defects                                      1\n",
       "Name: CONTRIBUTING FACTOR VEHICLE 1, dtype: int64"
      ]
     },
     "execution_count": 12,
     "metadata": {},
     "output_type": "execute_result"
    }
   ],
   "source": [
    "jan23[\"CONTRIBUTING FACTOR VEHICLE 1\"].value_counts(dropna=False) "
   ]
  },
  {
   "cell_type": "code",
   "execution_count": 13,
   "id": "26b61ccf",
   "metadata": {},
   "outputs": [
    {
     "data": {
      "text/plain": [
       "Unspecified                                              4521\n",
       "NaN                                                      1844\n",
       "Driver Inattention/Distraction                            310\n",
       "Other Vehicular                                            91\n",
       "Following Too Closely                                      70\n",
       "Passing or Lane Usage Improper                             60\n",
       "Traffic Control Disregarded                                46\n",
       "Failure to Yield Right-of-Way                              41\n",
       "Passing Too Closely                                        29\n",
       "Unsafe Speed                                               26\n",
       "Driver Inexperience                                        22\n",
       "Backing Unsafely                                           21\n",
       "View Obstructed/Limited                                    17\n",
       "Unsafe Lane Changing                                       13\n",
       "Aggressive Driving/Road Rage                               12\n",
       "Reaction to Uninvolved Vehicle                             12\n",
       "Turning Improperly                                         11\n",
       "Pavement Slippery                                          10\n",
       "Pedestrian/Bicyclist/Other Pedestrian Error/Confusion       8\n",
       "Oversized Vehicle                                           5\n",
       "Outside Car Distraction                                     4\n",
       "Alcohol Involvement                                         3\n",
       "Failure to Keep Right                                       2\n",
       "Traffic Control Device Improper/Non-Working                 2\n",
       "Obstruction/Debris                                          2\n",
       "Passenger Distraction                                       2\n",
       "Other Lighting Defects                                      1\n",
       "Fatigued/Drowsy                                             1\n",
       "Illnes                                                      1\n",
       "Shoulders Defective/Improper                                1\n",
       "Prescription Medication                                     1\n",
       "Name: CONTRIBUTING FACTOR VEHICLE 2, dtype: int64"
      ]
     },
     "execution_count": 13,
     "metadata": {},
     "output_type": "execute_result"
    }
   ],
   "source": [
    "jan23[\"CONTRIBUTING FACTOR VEHICLE 2\"].value_counts(dropna=False) "
   ]
  },
  {
   "cell_type": "code",
   "execution_count": 14,
   "id": "d6479b5d",
   "metadata": {},
   "outputs": [
    {
     "data": {
      "text/plain": [
       "NaN                               6501\n",
       "Unspecified                        637\n",
       "Other Vehicular                     18\n",
       "Following Too Closely               12\n",
       "Driver Inattention/Distraction       9\n",
       "Passing or Lane Usage Improper       3\n",
       "Unsafe Speed                         2\n",
       "Brakes Defective                     1\n",
       "Obstruction/Debris                   1\n",
       "Passing Too Closely                  1\n",
       "View Obstructed/Limited              1\n",
       "Pavement Slippery                    1\n",
       "Turning Improperly                   1\n",
       "Reaction to Uninvolved Vehicle       1\n",
       "Name: CONTRIBUTING FACTOR VEHICLE 3, dtype: int64"
      ]
     },
     "execution_count": 14,
     "metadata": {},
     "output_type": "execute_result"
    }
   ],
   "source": [
    "jan23[\"CONTRIBUTING FACTOR VEHICLE 3\"].value_counts(dropna=False) "
   ]
  },
  {
   "cell_type": "code",
   "execution_count": 15,
   "id": "6e3e490e",
   "metadata": {},
   "outputs": [
    {
     "data": {
      "text/plain": [
       "NaN                               6998\n",
       "Unspecified                        183\n",
       "Other Vehicular                      4\n",
       "Following Too Closely                2\n",
       "Obstruction/Debris                   1\n",
       "Passing or Lane Usage Improper       1\n",
       "Name: CONTRIBUTING FACTOR VEHICLE 4, dtype: int64"
      ]
     },
     "execution_count": 15,
     "metadata": {},
     "output_type": "execute_result"
    }
   ],
   "source": [
    "jan23[\"CONTRIBUTING FACTOR VEHICLE 4\"].value_counts(dropna=False) "
   ]
  },
  {
   "cell_type": "code",
   "execution_count": 16,
   "id": "a678d20a",
   "metadata": {},
   "outputs": [
    {
     "data": {
      "text/plain": [
       "NaN                   7127\n",
       "Unspecified             60\n",
       "Obstruction/Debris       1\n",
       "Other Vehicular          1\n",
       "Name: CONTRIBUTING FACTOR VEHICLE 5, dtype: int64"
      ]
     },
     "execution_count": 16,
     "metadata": {},
     "output_type": "execute_result"
    }
   ],
   "source": [
    "jan23[\"CONTRIBUTING FACTOR VEHICLE 5\"].value_counts(dropna=False) "
   ]
  },
  {
   "cell_type": "code",
   "execution_count": 17,
   "id": "827fe9b8",
   "metadata": {},
   "outputs": [
    {
     "data": {
      "text/plain": [
       "Sedan                                  3453\n",
       "Station Wagon/Sport Utility Vehicle    2484\n",
       "Taxi                                    176\n",
       "Pick-up Truck                           160\n",
       "NaN                                     135\n",
       "                                       ... \n",
       "cart                                      1\n",
       "Tow Truck                                 1\n",
       "NYC FDNY #                                1\n",
       "Scooter ga                                1\n",
       "FDNY AMBUL                                1\n",
       "Name: VEHICLE TYPE CODE 1, Length: 67, dtype: int64"
      ]
     },
     "execution_count": 17,
     "metadata": {},
     "output_type": "execute_result"
    }
   ],
   "source": [
    "jan23[\"VEHICLE TYPE CODE 1\"].value_counts(dropna=False)  "
   ]
  },
  {
   "cell_type": "code",
   "execution_count": 18,
   "id": "7d534614",
   "metadata": {},
   "outputs": [
    {
     "data": {
      "text/plain": [
       "NaN                                    2661\n",
       "Sedan                                  1958\n",
       "Station Wagon/Sport Utility Vehicle    1416\n",
       "Bike                                    182\n",
       "Box Truck                               153\n",
       "                                       ... \n",
       "School bus                                1\n",
       "FORKLIFT                                  1\n",
       "TOW TRUCK                                 1\n",
       "moped                                     1\n",
       "Forklift                                  1\n",
       "Name: VEHICLE TYPE CODE 2, Length: 81, dtype: int64"
      ]
     },
     "execution_count": 18,
     "metadata": {},
     "output_type": "execute_result"
    }
   ],
   "source": [
    "jan23[\"VEHICLE TYPE CODE 2\"].value_counts(dropna=False)  "
   ]
  },
  {
   "cell_type": "code",
   "execution_count": 19,
   "id": "c5da4ec2",
   "metadata": {},
   "outputs": [
    {
     "data": {
      "text/plain": [
       "NaN                                    6556\n",
       "Sedan                                   327\n",
       "Station Wagon/Sport Utility Vehicle     255\n",
       "Pick-up Truck                            15\n",
       "Box Truck                                 6\n",
       "Tractor Truck Diesel                      5\n",
       "Taxi                                      5\n",
       "Van                                       5\n",
       "Bus                                       3\n",
       "Convertible                               2\n",
       "Flat Bed                                  2\n",
       "Moped                                     2\n",
       "UTILITY TR                                1\n",
       "Carry All                                 1\n",
       "Tractor Truck Gasoline                    1\n",
       "Tow Truck / Wrecker                       1\n",
       "FLAT                                      1\n",
       "Bike                                      1\n",
       "Name: VEHICLE TYPE CODE 3, dtype: int64"
      ]
     },
     "execution_count": 19,
     "metadata": {},
     "output_type": "execute_result"
    }
   ],
   "source": [
    "jan23[\"VEHICLE TYPE CODE 3\"].value_counts(dropna=False)  "
   ]
  },
  {
   "cell_type": "code",
   "execution_count": 20,
   "id": "5955b684",
   "metadata": {},
   "outputs": [
    {
     "data": {
      "text/plain": [
       "NaN                                    7010\n",
       "Sedan                                    93\n",
       "Station Wagon/Sport Utility Vehicle      69\n",
       "Pick-up Truck                             8\n",
       "Tractor Truck Diesel                      2\n",
       "Dump                                      1\n",
       "Flat Bed                                  1\n",
       "SEMI-TRUCK                                1\n",
       "Convertible                               1\n",
       "4 dr sedan                                1\n",
       "Motorcycle                                1\n",
       "PK                                        1\n",
       "Name: VEHICLE TYPE CODE 4, dtype: int64"
      ]
     },
     "execution_count": 20,
     "metadata": {},
     "output_type": "execute_result"
    }
   ],
   "source": [
    "jan23[\"VEHICLE TYPE CODE 4\"].value_counts(dropna=False)  "
   ]
  },
  {
   "cell_type": "code",
   "execution_count": 21,
   "id": "fee077fe",
   "metadata": {},
   "outputs": [
    {
     "data": {
      "text/plain": [
       "NaN                                    7130\n",
       "Sedan                                    29\n",
       "Station Wagon/Sport Utility Vehicle      27\n",
       "Pick-up Truck                             1\n",
       "Box Truck                                 1\n",
       "Taxi                                      1\n",
       "Name: VEHICLE TYPE CODE 5, dtype: int64"
      ]
     },
     "execution_count": 21,
     "metadata": {},
     "output_type": "execute_result"
    }
   ],
   "source": [
    "jan23[\"VEHICLE TYPE CODE 5\"].value_counts(dropna=False)  "
   ]
  },
  {
   "cell_type": "code",
   "execution_count": 22,
   "id": "a3d70bfc",
   "metadata": {},
   "outputs": [],
   "source": [
    "# Some of the LATITUDE and LONGITUDE values do not look legitimate, since they are 0 \n",
    "# code zeros as missing values\n",
    "import numpy as np\n",
    "jan23.replace({'LATITUDE': 0, 'LONGITUDE': 0}, np.NaN, inplace=True)"
   ]
  },
  {
   "cell_type": "code",
   "execution_count": 23,
   "id": "9b8e1f10",
   "metadata": {},
   "outputs": [
    {
     "name": "stdout",
     "output_type": "stream",
     "text": [
      "          LATITUDE    LONGITUDE\n",
      "count  6629.000000  6629.000000\n",
      "mean     40.722060   -73.918688\n",
      "std       0.081583     0.085750\n",
      "min      40.504658   -74.250150\n",
      "25%      40.665245   -73.965830\n",
      "50%      40.712833   -73.922820\n",
      "75%      40.776638   -73.867714\n",
      "max      40.912827   -73.705800\n"
     ]
    }
   ],
   "source": [
    "# check if these columns still contain 0 (from min and max)\n",
    "descriptive_selected_columns = jan23[['LATITUDE', 'LONGITUDE']].describe()\n",
    "print (descriptive_selected_columns)"
   ]
  },
  {
   "cell_type": "code",
   "execution_count": 24,
   "id": "df9af85c",
   "metadata": {},
   "outputs": [
    {
     "name": "stdout",
     "output_type": "stream",
     "text": [
      "Int64Index([ 219,  390,  475,  491,  615,  637,  680,  787,  788,  819,  884,\n",
      "             886,  902,  905,  929,  930,  934,  983,  986, 1002, 1003, 1011,\n",
      "            1138, 1306, 1321, 1943, 2090, 2212, 2624, 2627, 2684, 2860, 2903,\n",
      "            2910, 3231, 3236, 3397, 3561, 3629, 3735, 3825, 4141, 4226, 4317,\n",
      "            4495, 4519, 4608, 4638, 4730, 4934, 5197, 5239, 5408, 6010, 6067,\n",
      "            6167, 6475],\n",
      "           dtype='int64')\n"
     ]
    }
   ],
   "source": [
    "# check if there are any missing LATITUDE and LONGITUDE when OFF STREET NAME is not missing\n",
    "missing_la_lo = jan23[jan23['OFF STREET NAME'].notna() & (jan23['LATITUDE'].isna() | jan23['LONGITUDE'].isna())].index\n",
    "print (missing_la_lo)"
   ]
  },
  {
   "cell_type": "code",
   "execution_count": 25,
   "id": "b887a23a",
   "metadata": {},
   "outputs": [],
   "source": [
    "# Geocode the missing addresses using the Google Maps Geocoding API \n",
    "import requests\n",
    "\n",
    "with open('cred', 'r') as f:\n",
    "    api_key = f.readline()"
   ]
  },
  {
   "cell_type": "code",
   "execution_count": 47,
   "id": "7f41b4b5",
   "metadata": {},
   "outputs": [
    {
     "data": {
      "text/plain": [
       "Int64Index([ 219,  390,  475,  491,  615,  637,  680,  787,  788,  819,  884,\n",
       "             886,  902,  905,  929,  930,  934,  983,  986, 1002, 1003, 1011,\n",
       "            1138, 1306, 1321, 1943, 2090, 2212, 2624, 2627, 2684, 2860, 2903,\n",
       "            2910, 3231, 3236, 3397, 3561, 3629, 3735, 3825, 4141, 4226, 4317,\n",
       "            4495, 4519, 4608, 4638, 4730, 4934, 5197, 5239, 5408, 6010, 6067,\n",
       "            6167, 6475],\n",
       "           dtype='int64')"
      ]
     },
     "execution_count": 47,
     "metadata": {},
     "output_type": "execute_result"
    }
   ],
   "source": [
    "missing_la_lo"
   ]
  },
  {
   "cell_type": "code",
   "execution_count": null,
   "id": "461e8e71",
   "metadata": {},
   "outputs": [],
   "source": [
    "for i in missing_la_lo:\n",
    "    address = jan23.loc[i, 'OFF STREET NAME']\n",
    "    address += ' NY'\n",
    "    url = f\"https://maps.googleapis.com/maps/api/geocode/json?address={address}&key={api_key}\"\n",
    "    response = requests.get(url).json()\n",
    "\n",
    "    la = response['results'][0]['geometry']['location']['lat']\n",
    "    lo = response['results'][0]['geometry']['location']['lng']\n",
    "    jan23.loc[i, 'LATITUDE'] = la\n",
    "    jan23.loc[i, 'LONGITUDE'] = lo"
   ]
  },
  {
   "cell_type": "code",
   "execution_count": 26,
   "id": "110ad8b8",
   "metadata": {},
   "outputs": [
    {
     "name": "stdout",
     "output_type": "stream",
     "text": [
      "40.7534975\n",
      "-73.985396\n"
     ]
    }
   ],
   "source": [
    "# check if the previous process works (LATITUDE and LONGITUDE have been fulfilled)\n",
    "print (jan23.loc[219, 'LATITUDE'])\n",
    "print (jan23.loc[219, 'LONGITUDE'])"
   ]
  },
  {
   "cell_type": "code",
   "execution_count": 27,
   "id": "920aadcf",
   "metadata": {},
   "outputs": [
    {
     "name": "stdout",
     "output_type": "stream",
     "text": [
      "BOROUGH   False  True \n",
      "ZIP CODE              \n",
      "False      4758      0\n",
      "True          0   2431\n"
     ]
    }
   ],
   "source": [
    "# check if ZIP CODE and BOROUGH are always missing together. The result shows that they are.\n",
    "missing_table = pd.crosstab(jan23['ZIP CODE'].isna(), jan23['BOROUGH'].isna())\n",
    "print(missing_table)"
   ]
  },
  {
   "cell_type": "code",
   "execution_count": 28,
   "id": "6a31dfc0",
   "metadata": {},
   "outputs": [
    {
     "name": "stderr",
     "output_type": "stream",
     "text": [
      "/home/myc/applications/miniconda3/lib/python3.10/site-packages/fuzzywuzzy/fuzz.py:11: UserWarning: Using slow pure-python SequenceMatcher. Install python-Levenshtein to remove this warning\n",
      "  warnings.warn('Using slow pure-python SequenceMatcher. Install python-Levenshtein to remove this warning')\n"
     ]
    }
   ],
   "source": [
    "# Geocode the missing ZIP CODE using the package uszipcode \n",
    "from uszipcode import SearchEngine\n",
    "search = SearchEngine()"
   ]
  },
  {
   "cell_type": "code",
   "execution_count": 29,
   "id": "4eda7052",
   "metadata": {},
   "outputs": [
    {
     "name": "stdout",
     "output_type": "stream",
     "text": [
      "Int64Index([   3,    4,    9,   10,   18,   20,   29,   30,   32,   38,\n",
      "            ...\n",
      "            7150, 7153, 7154, 7159, 7167, 7169, 7174, 7176, 7180, 7187],\n",
      "           dtype='int64', length=1998)\n"
     ]
    }
   ],
   "source": [
    "missing_zip = jan23[jan23['LATITUDE'].notna() & jan23['LONGITUDE'].notna() & jan23['ZIP CODE'].isna()].index\n",
    "print (missing_zip)"
   ]
  },
  {
   "cell_type": "code",
   "execution_count": 30,
   "id": "f3dba32d",
   "metadata": {},
   "outputs": [],
   "source": [
    "for i in missing_zip:\n",
    "    lat, lng = jan23.loc[i, 'LATITUDE'], jan23.loc[i, 'LONGITUDE']\n",
    "    result = search.by_coordinates(lat, lng, returns=1)\n",
    "    if result:\n",
    "        jan23.loc[i, 'ZIP CODE'] = result[0].zipcode"
   ]
  },
  {
   "cell_type": "code",
   "execution_count": 31,
   "id": "55b0d749",
   "metadata": {},
   "outputs": [
    {
     "name": "stdout",
     "output_type": "stream",
     "text": [
      "11103\n"
     ]
    }
   ],
   "source": [
    "# check if the missing zip code has been filled\n",
    "print (jan23.loc[3, 'ZIP CODE'])"
   ]
  },
  {
   "cell_type": "code",
   "execution_count": 32,
   "id": "1669e5ec",
   "metadata": {},
   "outputs": [],
   "source": [
    "# fill the missing BOROUGH with ZIP CODE\n",
    "def nyczip2borough(zip):\n",
    "    nzip = int(zip)\n",
    "    if nzip >= 10001 and nzip <= 10282:\n",
    "        return \"MANHATTAN\"\n",
    "    elif nzip >= 10301 and nzip <= 10314:\n",
    "        return \"STATEN ISLAND\"\n",
    "    elif nzip >= 10451 and nzip <= 10475:\n",
    "        return \"BRONX\"\n",
    "    elif nzip >= 11004 and nzip <= 11109:\n",
    "        return \"QUEENS\"\n",
    "    elif nzip >= 11351 and nzip <= 11697:\n",
    "        return \"QUEENS\"\n",
    "    elif nzip >= 11201 and nzip <= 11256:\n",
    "        return \"BROOKLYN\"\n",
    "    else:\n",
    "        return np.nan"
   ]
  },
  {
   "cell_type": "code",
   "execution_count": 42,
   "id": "b02d7db2",
   "metadata": {},
   "outputs": [
    {
     "data": {
      "text/plain": [
       "Int64Index([142, 462, 1177, 1723, 2699, 4133, 5241, 5247, 5812], dtype='int64')"
      ]
     },
     "execution_count": 42,
     "metadata": {},
     "output_type": "execute_result"
    }
   ],
   "source": [
    "missing_bo = jan23[jan23['ZIP CODE'].notna() & jan23['BOROUGH'].isna()].index\n",
    "missing_bo"
   ]
  },
  {
   "cell_type": "code",
   "execution_count": 46,
   "id": "1aef238d",
   "metadata": {},
   "outputs": [
    {
     "name": "stdout",
     "output_type": "stream",
     "text": [
      "zip=07020, result=nan\n",
      "zip=07020, result=nan\n",
      "zip=07002, result=nan\n",
      "zip=07020, result=nan\n",
      "zip=07008, result=nan\n",
      "zip=07020, result=nan\n",
      "zip=07020, result=nan\n",
      "zip=07020, result=nan\n",
      "zip=07020, result=nan\n"
     ]
    },
    {
     "data": {
      "text/plain": [
       "9"
      ]
     },
     "execution_count": 46,
     "metadata": {},
     "output_type": "execute_result"
    }
   ],
   "source": [
    "counter = 0\n",
    "for i in missing_bo:\n",
    "    zip = jan23.loc[i, 'ZIP CODE']\n",
    "    result = nyczip2borough(zip)\n",
    "    print(f'zip={zip}, result={result}')\n",
    "    if result:\n",
    "        jan23.loc[i, 'BOROUGH'] = result\n",
    "        counter += 1\n",
    "counter"
   ]
  },
  {
   "cell_type": "code",
   "execution_count": 48,
   "id": "6e682b54",
   "metadata": {},
   "outputs": [
    {
     "name": "stdout",
     "output_type": "stream",
     "text": [
      "QUEENS\n"
     ]
    }
   ],
   "source": [
    "# check if the missing BOROUGH has been filled\n",
    "print (jan23.loc[3, 'BOROUGH'])"
   ]
  },
  {
   "cell_type": "code",
   "execution_count": 36,
   "id": "f15074e4",
   "metadata": {},
   "outputs": [
    {
     "data": {
      "text/plain": [
       "Driver Inattention/Distraction                           1761\n",
       "Unspecified                                              1683\n",
       "Failure to Yield Right-of-Way                             558\n",
       "Following Too Closely                                     450\n",
       "Passing or Lane Usage Improper                            346\n",
       "Unsafe Speed                                              284\n",
       "Passing Too Closely                                       265\n",
       "Backing Unsafely                                          223\n",
       "Traffic Control Disregarded                               197\n",
       "Other Vehicular                                           191\n",
       "Turning Improperly                                        186\n",
       "Driver Inexperience                                       150\n",
       "Alcohol Involvement                                       127\n",
       "Unsafe Lane Changing                                      125\n",
       "View Obstructed/Limited                                    73\n",
       "Reaction to Uninvolved Vehicle                             64\n",
       "Aggressive Driving/Road Rage                               58\n",
       "Pedestrian/Bicyclist/Other Pedestrian Error/Confusion      57\n",
       "Pavement Slippery                                          49\n",
       "Fell Asleep                                                40\n",
       "Brakes Defective                                           30\n",
       "Oversized Vehicle                                          28\n",
       "Steering Failure                                           21\n",
       "Passenger Distraction                                      19\n",
       "Lost Consciousness                                         17\n",
       "Outside Car Distraction                                    17\n",
       "Glare                                                      14\n",
       "Tire Failure/Inadequate                                    13\n",
       "Obstruction/Debris                                         12\n",
       "Illnes                                                     10\n",
       "Drugs (illegal)                                            10\n",
       "Failure to Keep Right                                       9\n",
       "Accelerator Defective                                       9\n",
       "Driverless/Runaway Vehicle                                  7\n",
       "Pavement Defective                                          6\n",
       "Physical Disability                                         5\n",
       "Fatigued/Drowsy                                             4\n",
       "Animals Action                                              4\n",
       "Tow Hitch Defective                                         2\n",
       "Tinted Windows                                              2\n",
       "Other Electronic Device                                     2\n",
       "Cell Phone (hand-Held)                                      2\n",
       "Prescription Medication                                     1\n",
       "Lane Marking Improper/Inadequate                            1\n",
       "Traffic Control Device Improper/Non-Working                 1\n",
       "Windshield Inadequate                                       1\n",
       "Texting                                                     1\n",
       "Other Lighting Defects                                      1\n",
       "Name: CONTRIBUTING FACTOR VEHICLE 1, dtype: int64"
      ]
     },
     "execution_count": 36,
     "metadata": {},
     "output_type": "execute_result"
    }
   ],
   "source": [
    "\"\"\"\n",
    "Following the instructions for queston 7: Print the whole frequency table of CONTRIBUTING \n",
    "FACTOR VEHICLE 1. Convert lower cases to uppercases and check the frequencies again.\n",
    "\"\"\"\n",
    "jan23['CONTRIBUTING FACTOR VEHICLE 1'].value_counts()"
   ]
  },
  {
   "cell_type": "code",
   "execution_count": 37,
   "id": "62a6aea2",
   "metadata": {},
   "outputs": [
    {
     "data": {
      "text/plain": [
       "DRIVER INATTENTION/DISTRACTION                           1761\n",
       "UNSPECIFIED                                              1683\n",
       "FAILURE TO YIELD RIGHT-OF-WAY                             558\n",
       "FOLLOWING TOO CLOSELY                                     450\n",
       "PASSING OR LANE USAGE IMPROPER                            346\n",
       "UNSAFE SPEED                                              284\n",
       "PASSING TOO CLOSELY                                       265\n",
       "BACKING UNSAFELY                                          223\n",
       "TRAFFIC CONTROL DISREGARDED                               197\n",
       "OTHER VEHICULAR                                           191\n",
       "TURNING IMPROPERLY                                        186\n",
       "DRIVER INEXPERIENCE                                       150\n",
       "ALCOHOL INVOLVEMENT                                       127\n",
       "UNSAFE LANE CHANGING                                      125\n",
       "VIEW OBSTRUCTED/LIMITED                                    73\n",
       "REACTION TO UNINVOLVED VEHICLE                             64\n",
       "AGGRESSIVE DRIVING/ROAD RAGE                               58\n",
       "PEDESTRIAN/BICYCLIST/OTHER PEDESTRIAN ERROR/CONFUSION      57\n",
       "PAVEMENT SLIPPERY                                          49\n",
       "FELL ASLEEP                                                40\n",
       "BRAKES DEFECTIVE                                           30\n",
       "OVERSIZED VEHICLE                                          28\n",
       "STEERING FAILURE                                           21\n",
       "PASSENGER DISTRACTION                                      19\n",
       "LOST CONSCIOUSNESS                                         17\n",
       "OUTSIDE CAR DISTRACTION                                    17\n",
       "GLARE                                                      14\n",
       "TIRE FAILURE/INADEQUATE                                    13\n",
       "OBSTRUCTION/DEBRIS                                         12\n",
       "ILLNES                                                     10\n",
       "DRUGS (ILLEGAL)                                            10\n",
       "FAILURE TO KEEP RIGHT                                       9\n",
       "ACCELERATOR DEFECTIVE                                       9\n",
       "DRIVERLESS/RUNAWAY VEHICLE                                  7\n",
       "PAVEMENT DEFECTIVE                                          6\n",
       "PHYSICAL DISABILITY                                         5\n",
       "FATIGUED/DROWSY                                             4\n",
       "ANIMALS ACTION                                              4\n",
       "TOW HITCH DEFECTIVE                                         2\n",
       "TINTED WINDOWS                                              2\n",
       "OTHER ELECTRONIC DEVICE                                     2\n",
       "CELL PHONE (HAND-HELD)                                      2\n",
       "PRESCRIPTION MEDICATION                                     1\n",
       "LANE MARKING IMPROPER/INADEQUATE                            1\n",
       "TRAFFIC CONTROL DEVICE IMPROPER/NON-WORKING                 1\n",
       "WINDSHIELD INADEQUATE                                       1\n",
       "TEXTING                                                     1\n",
       "OTHER LIGHTING DEFECTS                                      1\n",
       "Name: CONTRIBUTING FACTOR VEHICLE 1, dtype: int64"
      ]
     },
     "execution_count": 37,
     "metadata": {},
     "output_type": "execute_result"
    }
   ],
   "source": [
    "jan23['CONTRIBUTING FACTOR VEHICLE 1'] = jan23['CONTRIBUTING FACTOR VEHICLE 1'].str.upper()\n",
    "jan23['CONTRIBUTING FACTOR VEHICLE 1'].value_counts()"
   ]
  },
  {
   "cell_type": "code",
   "execution_count": 38,
   "id": "fe7f9c39",
   "metadata": {},
   "outputs": [
    {
     "name": "stdout",
     "output_type": "stream",
     "text": [
      "Sedan                                  3453\n",
      "Station Wagon/Sport Utility Vehicle    2484\n",
      "Taxi                                    176\n",
      "Pick-up Truck                           160\n",
      "Bus                                     135\n",
      "Box Truck                               110\n",
      "Bike                                     83\n",
      "Ambulance                                54\n",
      "Tractor Truck Diesel                     53\n",
      "E-Bike                                   50\n",
      "Van                                      43\n",
      "Motorcycle                               28\n",
      "E-Scooter                                28\n",
      "Dump                                     18\n",
      "Flat Bed                                 17\n",
      "Moped                                    17\n",
      "PK                                       16\n",
      "Garbage or Refuse                        16\n",
      "Convertible                              11\n",
      "Chassis Cab                               9\n",
      "Carry All                                 9\n",
      "Tractor Truck Gasoline                    7\n",
      "Tanker                                    7\n",
      "Tow Truck / Wrecker                       6\n",
      "Motorscooter                              5\n",
      "AMBULANCE                                 5\n",
      "LIMO                                      5\n",
      "Flat Rack                                 3\n",
      "Motorbike                                 3\n",
      "4 dr sedan                                3\n",
      "Firetruck                                 2\n",
      "MOTOR SCOO                                2\n",
      "STAK                                      2\n",
      "Concrete Mixer                            2\n",
      "Beverage Truck                            1\n",
      "SCHOOL BUS                                1\n",
      "Waste truc                                1\n",
      "Forklift                                  1\n",
      "UTILITY                                   1\n",
      "SANITATION                                1\n",
      "Log                                       1\n",
      "AMBU                                      1\n",
      "3-Door                                    1\n",
      "Multi-Wheeled Vehicle                     1\n",
      "Scooter                                   1\n",
      "Stake or Rack                             1\n",
      "PAS                                       1\n",
      "Lift Boom                                 1\n",
      "Gas Moped                                 1\n",
      "Bulk Agriculture                          1\n",
      "Armored Truck                             1\n",
      "TRAILER                                   1\n",
      "electric s                                1\n",
      "Motorized                                 1\n",
      "VAn                                       1\n",
      "ELECTRIC S                                1\n",
      "UTIL                                      1\n",
      "FORK LIFT                                 1\n",
      "STREET SWE                                1\n",
      "GARBAGE TR                                1\n",
      "Chevy                                     1\n",
      "cart                                      1\n",
      "Tow Truck                                 1\n",
      "NYC FDNY #                                1\n",
      "Scooter ga                                1\n",
      "FDNY AMBUL                                1\n",
      "Name: VEHICLE TYPE CODE 1, dtype: int64\n"
     ]
    }
   ],
   "source": [
    "\"\"\"\n",
    "I did not find any difference for CONTRIBUTING FACTOR VEHICLE 1 between before and after \n",
    "converting lower cases to uppercases. I think question 7 meant to ask for the frequency \n",
    "table for VEHICLE TYPE CODE 1, therefore I also post it here. From these results, we \n",
    "could see that some counts are changed, such as van and ambulance, which suggests that \n",
    "mixing lower cases and upper cases could lead to miscount.\n",
    "\"\"\"\n",
    "with pd.option_context('display.max_rows', None):\n",
    "    print(jan23['VEHICLE TYPE CODE 1'].value_counts())"
   ]
  },
  {
   "cell_type": "code",
   "execution_count": 39,
   "id": "4b00d5ad",
   "metadata": {},
   "outputs": [
    {
     "name": "stdout",
     "output_type": "stream",
     "text": [
      "SEDAN                                  3453\n",
      "STATION WAGON/SPORT UTILITY VEHICLE    2484\n",
      "TAXI                                    176\n",
      "PICK-UP TRUCK                           160\n",
      "BUS                                     135\n",
      "BOX TRUCK                               110\n",
      "BIKE                                     83\n",
      "AMBULANCE                                59\n",
      "TRACTOR TRUCK DIESEL                     53\n",
      "E-BIKE                                   50\n",
      "VAN                                      44\n",
      "MOTORCYCLE                               28\n",
      "E-SCOOTER                                28\n",
      "DUMP                                     18\n",
      "MOPED                                    17\n",
      "FLAT BED                                 17\n",
      "PK                                       16\n",
      "GARBAGE OR REFUSE                        16\n",
      "CONVERTIBLE                              11\n",
      "CHASSIS CAB                               9\n",
      "CARRY ALL                                 9\n",
      "TRACTOR TRUCK GASOLINE                    7\n",
      "TANKER                                    7\n",
      "TOW TRUCK / WRECKER                       6\n",
      "MOTORSCOOTER                              5\n",
      "LIMO                                      5\n",
      "MOTORBIKE                                 3\n",
      "FLAT RACK                                 3\n",
      "4 DR SEDAN                                3\n",
      "FIRETRUCK                                 2\n",
      "STAK                                      2\n",
      "ELECTRIC S                                2\n",
      "CONCRETE MIXER                            2\n",
      "MOTOR SCOO                                2\n",
      "PAS                                       1\n",
      "3-DOOR                                    1\n",
      "MULTI-WHEELED VEHICLE                     1\n",
      "SCOOTER                                   1\n",
      "AMBU                                      1\n",
      "UTILITY                                   1\n",
      "LOG                                       1\n",
      "SANITATION                                1\n",
      "FORKLIFT                                  1\n",
      "LIFT BOOM                                 1\n",
      "WASTE TRUC                                1\n",
      "SCHOOL BUS                                1\n",
      "BEVERAGE TRUCK                            1\n",
      "GAS MOPED                                 1\n",
      "STAKE OR RACK                             1\n",
      "BULK AGRICULTURE                          1\n",
      "STREET SWE                                1\n",
      "SCOOTER GA                                1\n",
      "NYC FDNY #                                1\n",
      "TOW TRUCK                                 1\n",
      "CART                                      1\n",
      "CHEVY                                     1\n",
      "GARBAGE TR                                1\n",
      "FORK LIFT                                 1\n",
      "ARMORED TRUCK                             1\n",
      "UTIL                                      1\n",
      "MOTORIZED                                 1\n",
      "TRAILER                                   1\n",
      "FDNY AMBUL                                1\n",
      "Name: VEHICLE TYPE CODE 1, dtype: int64\n"
     ]
    }
   ],
   "source": [
    "jan23['VEHICLE TYPE CODE 1'] = jan23['VEHICLE TYPE CODE 1'].str.upper()\n",
    "with pd.option_context('display.max_rows', None):\n",
    "    print (jan23['VEHICLE TYPE CODE 1'].value_counts())\n"
   ]
  },
  {
   "cell_type": "markdown",
   "id": "6480be69",
   "metadata": {},
   "source": [
    "1. I don't know how the latitude and the longitude are got. If there is a machine that show them, is it possible to record them automatically? Why in some cases, they are missing while the detailed address is available? Also, there should be a choice for missing rather than a choice of “0”, which might lead to confusion.\n",
    "2. I think for the variables related to contributing factors and the variables related to vehicle types, it is better to provide fixed choices to the reporter (they could choose from existing choices rather than type themselves) for the most parts. For the factors and types that are not provided, they could choose “others” and type. All typing could be converted to all lower/upper cases automatically."
   ]
  },
  {
   "cell_type": "code",
   "execution_count": 40,
   "id": "ed90187f",
   "metadata": {},
   "outputs": [],
   "source": [
    "jan23.to_csv('data/nyc_crashes_cleaned.csv', index=False)\n",
    "\n",
    "merged_df.to_csv('data/merged.csv', index=False)\n"
   ]
  }
 ],
 "metadata": {
  "kernelspec": {
   "display_name": "Python 3 (ipykernel)",
   "language": "python",
   "name": "python3"
  },
  "language_info": {
   "codemirror_mode": {
    "name": "ipython",
    "version": 3
   },
   "file_extension": ".py",
   "mimetype": "text/x-python",
   "name": "python",
   "nbconvert_exporter": "python",
   "pygments_lexer": "ipython3",
   "version": "3.10.8"
  }
 },
 "nbformat": 4,
 "nbformat_minor": 5
}
